{
 "cells": [
  {
   "cell_type": "code",
   "execution_count": 1,
   "metadata": {},
   "outputs": [],
   "source": [
    "import pandas as pd\n",
    "import numpy as np"
   ]
  },
  {
   "cell_type": "code",
   "execution_count": 2,
   "metadata": {},
   "outputs": [],
   "source": [
    "hap16 = pd.read_csv(\"Data/2016.csv\", index_col=0)\n",
    "hap15 = pd.read_csv(\"Data/2015.csv\", index_col=0)\n",
    "suicide = pd.read_csv(\"Data/data.csv\", header=1, index_col=0)\n",
    "\n",
    "both = suicide[suicide.Sex == 'Both sexes']\n",
    "male = suicide[suicide.Sex == 'Male']\n",
    "female = suicide[suicide.Sex == 'Female']\n",
    "\n",
    "b16 = both.drop(['Sex', '2015', '2010', '2005', '2000'], axis=1)\n",
    "m16 = male.drop(['Sex', '2015', '2010', '2005', '2000'], axis=1)\n",
    "f16 = female.drop(['Sex', '2015', '2010', '2005', '2000'], axis=1)\n",
    "b15 = both.drop(['Sex', '2016', '2010', '2005', '2000'], axis=1)\n",
    "m15 = male.drop(['Sex', '2016', '2010', '2005', '2000'], axis=1)\n",
    "f15 = female.drop(['Sex', '2016', '2010', '2005', '2000'], axis=1)\n",
    "\n",
    "df16 = hap16.join(b16, how='inner')\n",
    "df15 = hap15.join(b15, how='inner')\n",
    "\n",
    "df16 = df16.rename(columns={'2016':'Suicide Rate'})\n",
    "df15 = df15.rename(columns={'2015':'Suicide Rate'})"
   ]
  },
  {
   "cell_type": "code",
   "execution_count": 11,
   "metadata": {},
   "outputs": [
    {
     "data": {
      "text/html": [
       "<div>\n",
       "<style scoped>\n",
       "    .dataframe tbody tr th:only-of-type {\n",
       "        vertical-align: middle;\n",
       "    }\n",
       "\n",
       "    .dataframe tbody tr th {\n",
       "        vertical-align: top;\n",
       "    }\n",
       "\n",
       "    .dataframe thead th {\n",
       "        text-align: right;\n",
       "    }\n",
       "</style>\n",
       "<table border=\"1\" class=\"dataframe\">\n",
       "  <thead>\n",
       "    <tr style=\"text-align: right;\">\n",
       "      <th></th>\n",
       "      <th>Region</th>\n",
       "      <th>Happiness Rank</th>\n",
       "      <th>Happiness Score</th>\n",
       "      <th>Lower Confidence Interval</th>\n",
       "      <th>Upper Confidence Interval</th>\n",
       "      <th>Economy (GDP per Capita)</th>\n",
       "      <th>Family</th>\n",
       "      <th>Health (Life Expectancy)</th>\n",
       "      <th>Freedom</th>\n",
       "      <th>Trust (Government Corruption)</th>\n",
       "      <th>Generosity</th>\n",
       "      <th>Dystopia Residual</th>\n",
       "      <th>Suicide Rate</th>\n",
       "    </tr>\n",
       "    <tr>\n",
       "      <th>Country</th>\n",
       "      <th></th>\n",
       "      <th></th>\n",
       "      <th></th>\n",
       "      <th></th>\n",
       "      <th></th>\n",
       "      <th></th>\n",
       "      <th></th>\n",
       "      <th></th>\n",
       "      <th></th>\n",
       "      <th></th>\n",
       "      <th></th>\n",
       "      <th></th>\n",
       "      <th></th>\n",
       "    </tr>\n",
       "  </thead>\n",
       "  <tbody>\n",
       "    <tr>\n",
       "      <th>Denmark</th>\n",
       "      <td>Western Europe</td>\n",
       "      <td>1</td>\n",
       "      <td>7.526</td>\n",
       "      <td>7.460</td>\n",
       "      <td>7.592</td>\n",
       "      <td>1.44178</td>\n",
       "      <td>1.16374</td>\n",
       "      <td>0.79504</td>\n",
       "      <td>0.57941</td>\n",
       "      <td>0.44453</td>\n",
       "      <td>0.36171</td>\n",
       "      <td>2.73939</td>\n",
       "      <td>12.8</td>\n",
       "    </tr>\n",
       "    <tr>\n",
       "      <th>Switzerland</th>\n",
       "      <td>Western Europe</td>\n",
       "      <td>2</td>\n",
       "      <td>7.509</td>\n",
       "      <td>7.428</td>\n",
       "      <td>7.590</td>\n",
       "      <td>1.52733</td>\n",
       "      <td>1.14524</td>\n",
       "      <td>0.86303</td>\n",
       "      <td>0.58557</td>\n",
       "      <td>0.41203</td>\n",
       "      <td>0.28083</td>\n",
       "      <td>2.69463</td>\n",
       "      <td>17.2</td>\n",
       "    </tr>\n",
       "    <tr>\n",
       "      <th>Iceland</th>\n",
       "      <td>Western Europe</td>\n",
       "      <td>3</td>\n",
       "      <td>7.501</td>\n",
       "      <td>7.333</td>\n",
       "      <td>7.669</td>\n",
       "      <td>1.42666</td>\n",
       "      <td>1.18326</td>\n",
       "      <td>0.86733</td>\n",
       "      <td>0.56624</td>\n",
       "      <td>0.14975</td>\n",
       "      <td>0.47678</td>\n",
       "      <td>2.83137</td>\n",
       "      <td>14.0</td>\n",
       "    </tr>\n",
       "    <tr>\n",
       "      <th>Norway</th>\n",
       "      <td>Western Europe</td>\n",
       "      <td>4</td>\n",
       "      <td>7.498</td>\n",
       "      <td>7.421</td>\n",
       "      <td>7.575</td>\n",
       "      <td>1.57744</td>\n",
       "      <td>1.12690</td>\n",
       "      <td>0.79579</td>\n",
       "      <td>0.59609</td>\n",
       "      <td>0.35776</td>\n",
       "      <td>0.37895</td>\n",
       "      <td>2.66465</td>\n",
       "      <td>12.2</td>\n",
       "    </tr>\n",
       "    <tr>\n",
       "      <th>Finland</th>\n",
       "      <td>Western Europe</td>\n",
       "      <td>5</td>\n",
       "      <td>7.413</td>\n",
       "      <td>7.351</td>\n",
       "      <td>7.475</td>\n",
       "      <td>1.40598</td>\n",
       "      <td>1.13464</td>\n",
       "      <td>0.81091</td>\n",
       "      <td>0.57104</td>\n",
       "      <td>0.41004</td>\n",
       "      <td>0.25492</td>\n",
       "      <td>2.82596</td>\n",
       "      <td>15.9</td>\n",
       "    </tr>\n",
       "  </tbody>\n",
       "</table>\n",
       "</div>"
      ],
      "text/plain": [
       "                     Region  Happiness Rank  Happiness Score  \\\n",
       "Country                                                        \n",
       "Denmark      Western Europe               1            7.526   \n",
       "Switzerland  Western Europe               2            7.509   \n",
       "Iceland      Western Europe               3            7.501   \n",
       "Norway       Western Europe               4            7.498   \n",
       "Finland      Western Europe               5            7.413   \n",
       "\n",
       "             Lower Confidence Interval  Upper Confidence Interval  \\\n",
       "Country                                                             \n",
       "Denmark                          7.460                      7.592   \n",
       "Switzerland                      7.428                      7.590   \n",
       "Iceland                          7.333                      7.669   \n",
       "Norway                           7.421                      7.575   \n",
       "Finland                          7.351                      7.475   \n",
       "\n",
       "             Economy (GDP per Capita)   Family  Health (Life Expectancy)  \\\n",
       "Country                                                                    \n",
       "Denmark                       1.44178  1.16374                   0.79504   \n",
       "Switzerland                   1.52733  1.14524                   0.86303   \n",
       "Iceland                       1.42666  1.18326                   0.86733   \n",
       "Norway                        1.57744  1.12690                   0.79579   \n",
       "Finland                       1.40598  1.13464                   0.81091   \n",
       "\n",
       "             Freedom  Trust (Government Corruption)  Generosity  \\\n",
       "Country                                                           \n",
       "Denmark      0.57941                        0.44453     0.36171   \n",
       "Switzerland  0.58557                        0.41203     0.28083   \n",
       "Iceland      0.56624                        0.14975     0.47678   \n",
       "Norway       0.59609                        0.35776     0.37895   \n",
       "Finland      0.57104                        0.41004     0.25492   \n",
       "\n",
       "             Dystopia Residual  Suicide Rate  \n",
       "Country                                       \n",
       "Denmark                2.73939          12.8  \n",
       "Switzerland            2.69463          17.2  \n",
       "Iceland                2.83137          14.0  \n",
       "Norway                 2.66465          12.2  \n",
       "Finland                2.82596          15.9  "
      ]
     },
     "execution_count": 11,
     "metadata": {},
     "output_type": "execute_result"
    }
   ],
   "source": [
    "df16.head()"
   ]
  },
  {
   "cell_type": "markdown",
   "metadata": {},
   "source": [
    "## Models for Making Predictions"
   ]
  },
  {
   "cell_type": "code",
   "execution_count": 3,
   "metadata": {},
   "outputs": [],
   "source": [
    "from sklearn.model_selection import train_test_split\n",
    "from sklearn import linear_model\n",
    "from sklearn.metrics import r2_score, mean_squared_error, mean_absolute_error\n",
    "from sklearn.metrics import confusion_matrix, accuracy_score\n",
    "import math\n",
    "from matplotlib import pyplot as plt"
   ]
  },
  {
   "cell_type": "markdown",
   "metadata": {},
   "source": [
    "Here we split the data into a training set and testing set. We are using the happiness data to make predictions about the suicide rate."
   ]
  },
  {
   "cell_type": "code",
   "execution_count": 19,
   "metadata": {},
   "outputs": [
    {
     "name": "stdout",
     "output_type": "stream",
     "text": [
      "(93, 10) (40, 10) (93,) (40,)\n"
     ]
    }
   ],
   "source": [
    "X_train, X_test, y_train, y_test = train_test_split(df16.drop(columns=['Suicide Rate', 'Region', 'Happiness Rank']), df16['Suicide Rate'], test_size=0.3, random_state=142)\n",
    "print(X_train.shape, X_test.shape, y_train.shape, y_test.shape)"
   ]
  },
  {
   "cell_type": "markdown",
   "metadata": {},
   "source": [
    "## Linear Regression"
   ]
  },
  {
   "cell_type": "markdown",
   "metadata": {},
   "source": [
    "The first model explored is Linear Regression. As this is a fairly simple model we were not expecting good results as the data had no obvious correlations and therefore a linear model would not be able to make any accurate predictions."
   ]
  },
  {
   "cell_type": "code",
   "execution_count": 55,
   "metadata": {},
   "outputs": [
    {
     "name": "stdout",
     "output_type": "stream",
     "text": [
      "y = x * [-7.62287640e+14  3.81143820e+14  3.81143820e+14 -1.56676640e+03\n",
      " -1.55703631e+03 -1.57006345e+03 -1.56748821e+03 -1.56879607e+03\n",
      " -1.57040939e+03 -1.56749448e+03] + 1.3559125245415196\n",
      "RMSE: 29.757933222094294\n",
      "R Squared: -0.08961136086960009\n",
      "MAE: 4.5055051787441345\n"
     ]
    }
   ],
   "source": [
    "# Fitting the Model\n",
    "model = linear_model.LinearRegression()\n",
    "model.fit(X_train, y_train)\n",
    "\n",
    "# Prediciting suicide rate given Happiness data\n",
    "y_pred = model.predict(X_test)\n",
    "\n",
    "# Scoring the prediction\n",
    "mse = mean_squared_error(y_test, y_pred)\n",
    "r2 = r2_score(y_test, y_pred)\n",
    "mae = mean_absolute_error(y_test, y_pred)\n",
    "\n",
    "print(\"MSE:\", mse)\n",
    "print(\"R Squared:\", r2)\n",
    "print(\"MAE:\", mae)"
   ]
  },
  {
   "cell_type": "code",
   "execution_count": 56,
   "metadata": {},
   "outputs": [
    {
     "data": {
      "text/plain": [
       "Text(0.5,1,'Happiness Score Vs Suicide Rates: Decision Tree Predictions')"
      ]
     },
     "execution_count": 56,
     "metadata": {},
     "output_type": "execute_result"
    },
    {
     "data": {
      "image/png": "[encoded data removed]",
      "text/plain": [
       "<Figure size 1008x576 with 1 Axes>"
      ]
     },
     "metadata": {},
     "output_type": "display_data"
    }
   ],
   "source": [
    "plt.figure(figsize=(14,8))\n",
    "plt.scatter(X_test['Happiness Score'], y_test, marker='*', c='k', s=50, label='original points')\n",
    "plt.scatter(X_test['Happiness Score'], y_pred, marker='*', c='r', s=50, label='predicted points')\n",
    "plt.legend()\n",
    "plt.title('Happiness Score Vs Suicide Rates: Decision Tree Predictions')"
   ]
  },
  {
   "cell_type": "markdown",
   "metadata": {},
   "source": [
    "As shown in the results and graph above, linear regression performed poorly. On average the mean squared error was 29.75 which is significantly large given the mean rate of suicide. The negative R squared value tells us that the model fits worse than horizontal line. "
   ]
  },
  {
   "cell_type": "code",
   "execution_count": 21,
   "metadata": {},
   "outputs": [
    {
     "name": "stdout",
     "output_type": "stream",
     "text": [
      "Important features:  Index(['Happiness Score', 'Lower Confidence Interval',\n",
      "       'Upper Confidence Interval', 'Health (Life Expectancy)',\n",
      "       'Trust (Government Corruption)', 'Generosity'],\n",
      "      dtype='object')\n"
     ]
    }
   ],
   "source": [
    "from sklearn.feature_selection import RFE\n",
    "\n",
    "# Selecting the best features\n",
    "estimator = linear_model.LinearRegression()\n",
    "selector = RFE(estimator, 6, step=1)\n",
    "selector.fit(X_train, y_train)\n",
    "y_predict = selector.predict(X_test)\n",
    "\n",
    "colNames = X_train.columns\n",
    "print(\"Important features: \", colNames[selector.support_])"
   ]
  },
  {
   "cell_type": "markdown",
   "metadata": {},
   "source": [
    "The RFE estimator tells us that using a linear model the most important features were Happiness Score', 'Lower Confidence Interval', 'Upper Confidence Interval', 'Health (Life Expectancy)', 'Trust (Government Corruption)', 'Generosity' when looking at the top 6 features."
   ]
  },
  {
   "cell_type": "code",
   "execution_count": 22,
   "metadata": {},
   "outputs": [],
   "source": [
    "X_scale_train = pd.DataFrame()\n",
    "X_scale_test = pd.DataFrame()\n",
    "\n",
    "rmse_set = []\n",
    "r2_set = []\n",
    "mae_set = []\n",
    "\n",
    "for col in X_train:\n",
    "    model = linear_model.LinearRegression()\n",
    "    \n",
    "    X_scale_train[col] = X_train[col]\n",
    "    X_scale_test[col] = X_test[col]\n",
    "    \n",
    "    model.fit(X_scale_train, y_train)\n",
    "\n",
    "    y_pred_scale = model.predict(X_scale_test)\n",
    "    rmse_set.append(math.sqrt(mean_squared_error(y_test, y_pred_scale)))\n",
    "    r2_set.append(r2_score(y_test, y_pred_scale))\n",
    "    mae_set.append(mean_absolute_error(y_test, y_pred_scale))"
   ]
  },
  {
   "cell_type": "code",
   "execution_count": 23,
   "metadata": {},
   "outputs": [
    {
     "data": {
      "text/plain": [
       "Text(0,0.5,'RMSE')"
      ]
     },
     "execution_count": 23,
     "metadata": {},
     "output_type": "execute_result"
    },
    {
     "data": {
      "image/png": "[encoded data removed]",
      "text/plain": [
       "<Figure size 432x288 with 1 Axes>"
      ]
     },
     "metadata": {},
     "output_type": "display_data"
    }
   ],
   "source": [
    "plt.plot(rmse_set)\n",
    "plt.xlabel(\"Features\")\n",
    "plt.ylabel(\"RMSE\")"
   ]
  },
  {
   "cell_type": "markdown",
   "metadata": {},
   "source": [
    "The graph above shows the performance of linear regression as more features are added. As shown the best performance is reached at 3 features."
   ]
  },
  {
   "cell_type": "markdown",
   "metadata": {},
   "source": [
    "## MLP Regressor "
   ]
  },
  {
   "cell_type": "markdown",
   "metadata": {},
   "source": [
    "The next model used was the Multi-layer Perceptron Regressor. We had hoped that this model, which is more complicated than linear regression, would be able to perform better on the data. "
   ]
  },
  {
   "cell_type": "code",
   "execution_count": 35,
   "metadata": {},
   "outputs": [
    {
     "data": {
      "text/plain": [
       "MLPRegressor(activation='relu', alpha=0.0001, batch_size='auto', beta_1=0.9,\n",
       "       beta_2=0.999, early_stopping=False, epsilon=1e-08,\n",
       "       hidden_layer_sizes=(100,), learning_rate='constant',\n",
       "       learning_rate_init=0.001, max_iter=600, momentum=0.9,\n",
       "       nesterovs_momentum=True, power_t=0.5, random_state=0, shuffle=True,\n",
       "       solver='adam', tol=0.0001, validation_fraction=0.1, verbose=False,\n",
       "       warm_start=False)"
      ]
     },
     "execution_count": 35,
     "metadata": {},
     "output_type": "execute_result"
    }
   ],
   "source": [
    "from sklearn.neural_network import MLPRegressor\n",
    "mlp = MLPRegressor(random_state=0, max_iter=600)\n",
    "mlp.fit(X_train, y_train)"
   ]
  },
  {
   "cell_type": "code",
   "execution_count": 58,
   "metadata": {},
   "outputs": [
    {
     "name": "stdout",
     "output_type": "stream",
     "text": [
      "MSE:  28.543775698546504 r2:  -0.04515397797041687\n"
     ]
    }
   ],
   "source": [
    "y_cap = mlp.predict(X_test)\n",
    "mlp_mse = mean_squared_error(y_test, y_cap)\n",
    "mlp_r2 = r2_score(y_test, y_cap)\n",
    "\n",
    "print('MSE: ', mlp_mse, 'r2: ', mlp_r2)"
   ]
  },
  {
   "cell_type": "markdown",
   "metadata": {},
   "source": [
    "Unfortunatly its performance was only slighly better than linear regression."
   ]
  },
  {
   "cell_type": "code",
   "execution_count": 51,
   "metadata": {},
   "outputs": [
    {
     "data": {
      "text/plain": [
       "Text(0.5,1,'Happiness Score Vs Suicide Rates: MLP Regressor Predictions')"
      ]
     },
     "execution_count": 51,
     "metadata": {},
     "output_type": "execute_result"
    },
    {
     "data": {
      "image/png": "[encoded data removed]",
      "text/plain": [
       "<Figure size 1008x576 with 1 Axes>"
      ]
     },
     "metadata": {},
     "output_type": "display_data"
    }
   ],
   "source": [
    "plt.figure(figsize=(14,8))\n",
    "plt.scatter(X_test['Happiness Score'], y_test, marker='*', c='k', s=50, label='original points')\n",
    "plt.scatter(X_test['Happiness Score'], y_cap, marker='*', c='r', s=50, label='predicted points')\n",
    "plt.legend()\n",
    "plt.title('Happiness Score Vs Suicide Rates: MLP Regressor Predictions')"
   ]
  },
  {
   "cell_type": "markdown",
   "metadata": {},
   "source": [
    "## Decision Trees"
   ]
  },
  {
   "cell_type": "code",
   "execution_count": 52,
   "metadata": {},
   "outputs": [],
   "source": [
    "from sklearn.tree import DecisionTreeRegressor\n",
    "\n",
    "# Initialising and fitting the regressor\n",
    "regressor = DecisionTreeRegressor(random_state=0, max_depth=8)\n",
    "regressor.fit(X_train, y_train)\n",
    "y_cap_tree = regressor.predict(X_test)"
   ]
  },
  {
   "cell_type": "code",
   "execution_count": 53,
   "metadata": {},
   "outputs": [
    {
     "name": "stdout",
     "output_type": "stream",
     "text": [
      "MSE:  30.33988920734714 r2:  -0.11092016105827596\n"
     ]
    }
   ],
   "source": [
    "tree_mse = mean_squared_error(y_test, y_cap_tree)\n",
    "tree_r2 = r2_score(y_test, y_cap_tree)\n",
    "\n",
    "print('MSE: ', tree_mse, 'r2: ', tree_r2)"
   ]
  },
  {
   "cell_type": "markdown",
   "metadata": {},
   "source": [
    "The Decision Tree Algorithm performed worst, with an MSE of 30.34. "
   ]
  },
  {
   "cell_type": "code",
   "execution_count": 54,
   "metadata": {},
   "outputs": [
    {
     "data": {
      "text/plain": [
       "Text(0.5,1,'Happiness Score Vs Suicide Rates: Decision Tree Predictions')"
      ]
     },
     "execution_count": 54,
     "metadata": {},
     "output_type": "execute_result"
    },
    {
     "data": {
      "image/png": "[encoded data removed]",
      "text/plain": [
       "<Figure size 1008x576 with 1 Axes>"
      ]
     },
     "metadata": {},
     "output_type": "display_data"
    }
   ],
   "source": [
    "plt.figure(figsize=(14,8))\n",
    "plt.scatter(X_test['Happiness Score'], y_test, marker='*', c='k', s=50, label='original points')\n",
    "plt.scatter(X_test['Happiness Score'], y_cap_tree, marker='*', c='r', s=50, label='predicted points')\n",
    "plt.legend()\n",
    "plt.title('Happiness Score Vs Suicide Rates: Decision Tree Predictions')"
   ]
  },
  {
   "cell_type": "code",
   "execution_count": 77,
   "metadata": {},
   "outputs": [],
   "source": [
    "mse_data = []\n",
    "mse_data.append(mse)\n",
    "mse_data.append(mlp_mse)\n",
    "mse_data.append(tree_mse)\n",
    "\n",
    "r2_data = []\n",
    "r2_data.append(r2)\n",
    "r2_data.append(mlp_r2)\n",
    "r2_data.append(tree_r2)"
   ]
  },
  {
   "cell_type": "code",
   "execution_count": 90,
   "metadata": {
    "scrolled": true
   },
   "outputs": [
    {
     "data": {
      "text/plain": [
       "<function matplotlib.pyplot.show(*args, **kw)>"
      ]
     },
     "execution_count": 90,
     "metadata": {},
     "output_type": "execute_result"
    },
    {
     "data": {
      "image/png": "[encoded data removed]",
      "text/plain": [
       "<Figure size 1008x576 with 1 Axes>"
      ]
     },
     "metadata": {},
     "output_type": "display_data"
    }
   ],
   "source": [
    "labels = ['Linear Regression', 'MLP Regressor', 'Decision Tree Regressor']\n",
    "\n",
    "plt.figure(figsize=(14,8))\n",
    "plt.bar(np.arange(len(mse_data)), mse_data, align='center', alpha=0.5)\n",
    "plt.xticks(np.arange(len(mse_data)), labels)\n",
    "plt.ylabel('MSE')\n",
    "plt.xlabel('Models')\n",
    "plt.title('MSE Performance of the 3 models')\n",
    "plt.show"
   ]
  },
  {
   "cell_type": "markdown",
   "metadata": {},
   "source": [
    "The performance of all 3 models is very similar."
   ]
  },
  {
   "cell_type": "code",
   "execution_count": 88,
   "metadata": {},
   "outputs": [
    {
     "data": {
      "text/plain": [
       "<function matplotlib.pyplot.show(*args, **kw)>"
      ]
     },
     "execution_count": 88,
     "metadata": {},
     "output_type": "execute_result"
    },
    {
     "data": {
      "image/png": "[encoded data removed]",
      "text/plain": [
       "<Figure size 1008x576 with 1 Axes>"
      ]
     },
     "metadata": {},
     "output_type": "display_data"
    }
   ],
   "source": [
    "plt.figure(figsize=(14,8))\n",
    "plt.bar(np.arange(len(r2_data)), r2_data, align='center', alpha=0.5)\n",
    "plt.xticks(np.arange(len(r2_data)), labels)\n",
    "plt.ylabel('R2')\n",
    "plt.xlabel('Models')\n",
    "plt.title('R2 Performance of the 3 models')\n",
    "plt.show"
   ]
  },
  {
   "cell_type": "markdown",
   "metadata": {},
   "source": [
    "All 3 models have a negative R squared. This indicates that a horizontal line is a better predictor on the data then the models. From the results we can conclude that there is no correlation between a countries happiness score and its suicide rate. "
   ]
  }
 ],
 "metadata": {
  "kernelspec": {
   "display_name": "Python 3",
   "language": "python",
   "name": "python3"
  },
  "language_info": {
   "codemirror_mode": {
    "name": "ipython",
    "version": 3
   },
   "file_extension": ".py",
   "mimetype": "text/x-python",
   "name": "python",
   "nbconvert_exporter": "python",
   "pygments_lexer": "ipython3",
   "version": "3.6.5"
  }
 },
 "nbformat": 4,
 "nbformat_minor": 2
}
